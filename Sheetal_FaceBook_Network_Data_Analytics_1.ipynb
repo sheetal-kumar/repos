{
  "nbformat": 4,
  "nbformat_minor": 0,
  "metadata": {
    "colab": {
      "provenance": [],
      "include_colab_link": true
    },
    "kernelspec": {
      "name": "python3",
      "display_name": "Python 3"
    },
    "language_info": {
      "name": "python"
    }
  },
  "cells": [
    {
      "cell_type": "markdown",
      "metadata": {
        "id": "view-in-github",
        "colab_type": "text"
      },
      "source": [
        "<a href=\"https://colab.research.google.com/github/sheetal-kumar/repos/blob/main/Sheetal_FaceBook_Network_Data_Analytics_1.ipynb\" target=\"_parent\"><img src=\"https://colab.research.google.com/assets/colab-badge.svg\" alt=\"Open In Colab\"/></a>"
      ]
    },
    {
      "cell_type": "code",
      "source": [
        "import pandas as pd\n",
        "import networkx as nx\n"
      ],
      "metadata": {
        "id": "1i_oLgQFMy_O"
      },
      "execution_count": null,
      "outputs": []
    },
    {
      "cell_type": "code",
      "source": [
        "df=pd.read_csv(\"pseudo_facebook.csv\")\n",
        "df. head( )"
      ],
      "metadata": {
        "colab": {
          "base_uri": "https://localhost:8080/",
          "height": 270
        },
        "id": "FgUlIJzzNAtk",
        "outputId": "ff9d836a-d3bd-45a7-d736-77f58bd29d5c"
      },
      "execution_count": null,
      "outputs": [
        {
          "output_type": "execute_result",
          "data": {
            "text/plain": [
              "    userid  age  dob_day  dob_year  dob_month  gender  tenure  friend_count  \\\n",
              "0  2094382   14       19      1999       11.0    male   266.0           0.0   \n",
              "1  1192601   14        2      1999       11.0  female     6.0           0.0   \n",
              "2  2083884   14       16      1999       11.0    male    13.0           0.0   \n",
              "3  1203168   14       25      1999       12.0  female    93.0           0.0   \n",
              "4  1733186   14        4      1999       12.0    male    82.0           0.0   \n",
              "\n",
              "   friendships_initiated  likes  likes_received  mobile_likes  \\\n",
              "0                    0.0    0.0             0.0           0.0   \n",
              "1                    0.0    0.0             0.0           0.0   \n",
              "2                    0.0    0.0             0.0           0.0   \n",
              "3                    0.0    0.0             0.0           0.0   \n",
              "4                    0.0    0.0             0.0           0.0   \n",
              "\n",
              "   mobile_likes_received  www_likes  www_likes_received  \n",
              "0                    0.0        0.0                 0.0  \n",
              "1                    0.0        0.0                 0.0  \n",
              "2                    0.0        0.0                 0.0  \n",
              "3                    0.0        0.0                 0.0  \n",
              "4                    0.0        0.0                 0.0  "
            ],
            "text/html": [
              "\n",
              "  <div id=\"df-f780c6aa-5e14-4295-8d90-c59e32d7ebd7\">\n",
              "    <div class=\"colab-df-container\">\n",
              "      <div>\n",
              "<style scoped>\n",
              "    .dataframe tbody tr th:only-of-type {\n",
              "        vertical-align: middle;\n",
              "    }\n",
              "\n",
              "    .dataframe tbody tr th {\n",
              "        vertical-align: top;\n",
              "    }\n",
              "\n",
              "    .dataframe thead th {\n",
              "        text-align: right;\n",
              "    }\n",
              "</style>\n",
              "<table border=\"1\" class=\"dataframe\">\n",
              "  <thead>\n",
              "    <tr style=\"text-align: right;\">\n",
              "      <th></th>\n",
              "      <th>userid</th>\n",
              "      <th>age</th>\n",
              "      <th>dob_day</th>\n",
              "      <th>dob_year</th>\n",
              "      <th>dob_month</th>\n",
              "      <th>gender</th>\n",
              "      <th>tenure</th>\n",
              "      <th>friend_count</th>\n",
              "      <th>friendships_initiated</th>\n",
              "      <th>likes</th>\n",
              "      <th>likes_received</th>\n",
              "      <th>mobile_likes</th>\n",
              "      <th>mobile_likes_received</th>\n",
              "      <th>www_likes</th>\n",
              "      <th>www_likes_received</th>\n",
              "    </tr>\n",
              "  </thead>\n",
              "  <tbody>\n",
              "    <tr>\n",
              "      <th>0</th>\n",
              "      <td>2094382</td>\n",
              "      <td>14</td>\n",
              "      <td>19</td>\n",
              "      <td>1999</td>\n",
              "      <td>11.0</td>\n",
              "      <td>male</td>\n",
              "      <td>266.0</td>\n",
              "      <td>0.0</td>\n",
              "      <td>0.0</td>\n",
              "      <td>0.0</td>\n",
              "      <td>0.0</td>\n",
              "      <td>0.0</td>\n",
              "      <td>0.0</td>\n",
              "      <td>0.0</td>\n",
              "      <td>0.0</td>\n",
              "    </tr>\n",
              "    <tr>\n",
              "      <th>1</th>\n",
              "      <td>1192601</td>\n",
              "      <td>14</td>\n",
              "      <td>2</td>\n",
              "      <td>1999</td>\n",
              "      <td>11.0</td>\n",
              "      <td>female</td>\n",
              "      <td>6.0</td>\n",
              "      <td>0.0</td>\n",
              "      <td>0.0</td>\n",
              "      <td>0.0</td>\n",
              "      <td>0.0</td>\n",
              "      <td>0.0</td>\n",
              "      <td>0.0</td>\n",
              "      <td>0.0</td>\n",
              "      <td>0.0</td>\n",
              "    </tr>\n",
              "    <tr>\n",
              "      <th>2</th>\n",
              "      <td>2083884</td>\n",
              "      <td>14</td>\n",
              "      <td>16</td>\n",
              "      <td>1999</td>\n",
              "      <td>11.0</td>\n",
              "      <td>male</td>\n",
              "      <td>13.0</td>\n",
              "      <td>0.0</td>\n",
              "      <td>0.0</td>\n",
              "      <td>0.0</td>\n",
              "      <td>0.0</td>\n",
              "      <td>0.0</td>\n",
              "      <td>0.0</td>\n",
              "      <td>0.0</td>\n",
              "      <td>0.0</td>\n",
              "    </tr>\n",
              "    <tr>\n",
              "      <th>3</th>\n",
              "      <td>1203168</td>\n",
              "      <td>14</td>\n",
              "      <td>25</td>\n",
              "      <td>1999</td>\n",
              "      <td>12.0</td>\n",
              "      <td>female</td>\n",
              "      <td>93.0</td>\n",
              "      <td>0.0</td>\n",
              "      <td>0.0</td>\n",
              "      <td>0.0</td>\n",
              "      <td>0.0</td>\n",
              "      <td>0.0</td>\n",
              "      <td>0.0</td>\n",
              "      <td>0.0</td>\n",
              "      <td>0.0</td>\n",
              "    </tr>\n",
              "    <tr>\n",
              "      <th>4</th>\n",
              "      <td>1733186</td>\n",
              "      <td>14</td>\n",
              "      <td>4</td>\n",
              "      <td>1999</td>\n",
              "      <td>12.0</td>\n",
              "      <td>male</td>\n",
              "      <td>82.0</td>\n",
              "      <td>0.0</td>\n",
              "      <td>0.0</td>\n",
              "      <td>0.0</td>\n",
              "      <td>0.0</td>\n",
              "      <td>0.0</td>\n",
              "      <td>0.0</td>\n",
              "      <td>0.0</td>\n",
              "      <td>0.0</td>\n",
              "    </tr>\n",
              "  </tbody>\n",
              "</table>\n",
              "</div>\n",
              "      <button class=\"colab-df-convert\" onclick=\"convertToInteractive('df-f780c6aa-5e14-4295-8d90-c59e32d7ebd7')\"\n",
              "              title=\"Convert this dataframe to an interactive table.\"\n",
              "              style=\"display:none;\">\n",
              "        \n",
              "  <svg xmlns=\"http://www.w3.org/2000/svg\" height=\"24px\"viewBox=\"0 0 24 24\"\n",
              "       width=\"24px\">\n",
              "    <path d=\"M0 0h24v24H0V0z\" fill=\"none\"/>\n",
              "    <path d=\"M18.56 5.44l.94 2.06.94-2.06 2.06-.94-2.06-.94-.94-2.06-.94 2.06-2.06.94zm-11 1L8.5 8.5l.94-2.06 2.06-.94-2.06-.94L8.5 2.5l-.94 2.06-2.06.94zm10 10l.94 2.06.94-2.06 2.06-.94-2.06-.94-.94-2.06-.94 2.06-2.06.94z\"/><path d=\"M17.41 7.96l-1.37-1.37c-.4-.4-.92-.59-1.43-.59-.52 0-1.04.2-1.43.59L10.3 9.45l-7.72 7.72c-.78.78-.78 2.05 0 2.83L4 21.41c.39.39.9.59 1.41.59.51 0 1.02-.2 1.41-.59l7.78-7.78 2.81-2.81c.8-.78.8-2.07 0-2.86zM5.41 20L4 18.59l7.72-7.72 1.47 1.35L5.41 20z\"/>\n",
              "  </svg>\n",
              "      </button>\n",
              "      \n",
              "  <style>\n",
              "    .colab-df-container {\n",
              "      display:flex;\n",
              "      flex-wrap:wrap;\n",
              "      gap: 12px;\n",
              "    }\n",
              "\n",
              "    .colab-df-convert {\n",
              "      background-color: #E8F0FE;\n",
              "      border: none;\n",
              "      border-radius: 50%;\n",
              "      cursor: pointer;\n",
              "      display: none;\n",
              "      fill: #1967D2;\n",
              "      height: 32px;\n",
              "      padding: 0 0 0 0;\n",
              "      width: 32px;\n",
              "    }\n",
              "\n",
              "    .colab-df-convert:hover {\n",
              "      background-color: #E2EBFA;\n",
              "      box-shadow: 0px 1px 2px rgba(60, 64, 67, 0.3), 0px 1px 3px 1px rgba(60, 64, 67, 0.15);\n",
              "      fill: #174EA6;\n",
              "    }\n",
              "\n",
              "    [theme=dark] .colab-df-convert {\n",
              "      background-color: #3B4455;\n",
              "      fill: #D2E3FC;\n",
              "    }\n",
              "\n",
              "    [theme=dark] .colab-df-convert:hover {\n",
              "      background-color: #434B5C;\n",
              "      box-shadow: 0px 1px 3px 1px rgba(0, 0, 0, 0.15);\n",
              "      filter: drop-shadow(0px 1px 2px rgba(0, 0, 0, 0.3));\n",
              "      fill: #FFFFFF;\n",
              "    }\n",
              "  </style>\n",
              "\n",
              "      <script>\n",
              "        const buttonEl =\n",
              "          document.querySelector('#df-f780c6aa-5e14-4295-8d90-c59e32d7ebd7 button.colab-df-convert');\n",
              "        buttonEl.style.display =\n",
              "          google.colab.kernel.accessAllowed ? 'block' : 'none';\n",
              "\n",
              "        async function convertToInteractive(key) {\n",
              "          const element = document.querySelector('#df-f780c6aa-5e14-4295-8d90-c59e32d7ebd7');\n",
              "          const dataTable =\n",
              "            await google.colab.kernel.invokeFunction('convertToInteractive',\n",
              "                                                     [key], {});\n",
              "          if (!dataTable) return;\n",
              "\n",
              "          const docLinkHtml = 'Like what you see? Visit the ' +\n",
              "            '<a target=\"_blank\" href=https://colab.research.google.com/notebooks/data_table.ipynb>data table notebook</a>'\n",
              "            + ' to learn more about interactive tables.';\n",
              "          element.innerHTML = '';\n",
              "          dataTable['output_type'] = 'display_data';\n",
              "          await google.colab.output.renderOutput(dataTable, element);\n",
              "          const docLink = document.createElement('div');\n",
              "          docLink.innerHTML = docLinkHtml;\n",
              "          element.appendChild(docLink);\n",
              "        }\n",
              "      </script>\n",
              "    </div>\n",
              "  </div>\n",
              "  "
            ]
          },
          "metadata": {},
          "execution_count": 6
        }
      ]
    },
    {
      "cell_type": "code",
      "source": [
        "# Load edge list\n",
        "#age and dob_year is my attribute ,you please add your dataset attributes\n",
        "fb_graph=nx.from_pandas_edgelist(df,source=\"age\", target=\"dob_year\")\n",
        "type(fb_graph)"
      ],
      "metadata": {
        "colab": {
          "base_uri": "https://localhost:8080/"
        },
        "id": "ef85g7SBQmVP",
        "outputId": "71c24c54-b196-4c68-a8dd-8d0e0b183d6c"
      },
      "execution_count": null,
      "outputs": [
        {
          "output_type": "execute_result",
          "data": {
            "text/plain": [
              "networkx.classes.graph.Graph"
            ]
          },
          "metadata": {},
          "execution_count": 7
        }
      ]
    },
    {
      "cell_type": "code",
      "source": [
        "#display all the nodes\n",
        "fb_graph.nodes()"
      ],
      "metadata": {
        "colab": {
          "base_uri": "https://localhost:8080/"
        },
        "id": "qRDxaJYvRf2j",
        "outputId": "d4644e8c-9b0c-40d7-95f6-47ceedf38d1b"
      },
      "execution_count": null,
      "outputs": [
        {
          "output_type": "execute_result",
          "data": {
            "text/plain": [
              "NodeView((14, 1999, 13, 2000, 15, 1998, 16, 1997, 17, 1996, 18, 1995, 19, 1994, 20, 1993, 21, 1992, 22, 1991, 23, 1990, 24, 1989, 25, 1988, 26, 1987, 27, 1986, 28, 1985, 29, 1984, 30, 1983, 31, 1982, 32, 1981, 33, 1980, 34, 1979, 35, 1978, 36, 1977, 37, 1976, 38, 1975, 39, 1974, 40, 1973, 41, 1972, 42, 1971, 43, 1970, 44, 1969, 45, 1968, 46, 1967, 47, 1966, 48, 1965, 50, 1963, 49, 1964, 51, 1962, 52, 1961, 53, 1960, 54, 1959, 55, 1958, 56, 1957, 57, 1956, 58, 1955, 59, 1954, 60, 1953, 61, 1952, 63, 1950, 62, 1951, 64, 1949, 65, 1948, 67, 1946, 66, 1947, 68, 1945, 69, 1944, 70, 1943, 71, 1942, 73, 1940, 72, 1941, 74, 1939, 76, 1937, 78, 1935, 79, 1934, 84, 1929, 88, 1925, 90, 1923, 92, 1921, 94, 1919, 95, 1918, 97, 1916, 100, 1913, 107, 1906, 108, 1905, 93, 1920, 81, 1932, 102, 1911, 77, 1936, 80, 1933, 75, 1938, 82, 1931, 101, 1912, 103, 1910, 85, 1928, 98, 1915, 106, 1907, 83, 1930, 87, 1926, 89, 1924, 91, 1922, 96, 1917, 86, 1927, 112, 1901, 113, 1900, 104, 1909, 105, 1908, 99, 1914, 198))"
            ]
          },
          "metadata": {},
          "execution_count": 8
        }
      ]
    },
    {
      "cell_type": "code",
      "source": [
        "#display all the edges\n",
        "fb_graph.edges()"
      ],
      "metadata": {
        "colab": {
          "base_uri": "https://localhost:8080/"
        },
        "id": "5RJ5a3daRxs9",
        "outputId": "9a4dc7f6-1e8d-4ed0-de7c-79b22a9ccd93"
      },
      "execution_count": null,
      "outputs": [
        {
          "output_type": "execute_result",
          "data": {
            "text/plain": [
              "EdgeView([(14, 1999), (13, 2000), (15, 1998), (16, 1997), (17, 1996), (18, 1995), (19, 1994), (20, 1993), (21, 1992), (22, 1991), (23, 1990), (24, 1989), (25, 1988), (26, 1987), (27, 1986), (27, 198), (28, 1985), (29, 1984), (30, 1983), (31, 1982), (32, 1981), (33, 1980), (34, 1979), (35, 1978), (36, 1977), (37, 1976), (38, 1975), (39, 1974), (40, 1973), (41, 1972), (42, 1971), (43, 1970), (44, 1969), (45, 1968), (46, 1967), (47, 1966), (48, 1965), (50, 1963), (49, 1964), (51, 1962), (52, 1961), (53, 1960), (54, 1959), (55, 1958), (56, 1957), (57, 1956), (58, 1955), (59, 1954), (60, 1953), (61, 1952), (63, 1950), (62, 1951), (64, 1949), (65, 1948), (67, 1946), (66, 1947), (68, 1945), (69, 1944), (70, 1943), (71, 1942), (73, 1940), (72, 1941), (74, 1939), (76, 1937), (78, 1935), (79, 1934), (84, 1929), (88, 1925), (90, 1923), (92, 1921), (94, 1919), (95, 1918), (97, 1916), (100, 1913), (107, 1906), (108, 1905), (93, 1920), (81, 1932), (102, 1911), (77, 1936), (80, 1933), (75, 1938), (82, 1931), (101, 1912), (103, 1910), (85, 1928), (98, 1915), (106, 1907), (83, 1930), (87, 1926), (89, 1924), (91, 1922), (96, 1917), (86, 1927), (112, 1901), (113, 1900), (104, 1909), (105, 1908), (99, 1914)])"
            ]
          },
          "metadata": {},
          "execution_count": 9
        }
      ]
    },
    {
      "cell_type": "code",
      "source": [
        "#add new node in graph\n",
        "fb_graph.add_edge(\"123\",\"2154\")\n",
        "fb_graph.nodes()\n"
      ],
      "metadata": {
        "colab": {
          "base_uri": "https://localhost:8080/"
        },
        "id": "1iRB4TxMR77v",
        "outputId": "db638236-875c-4083-f2e6-3c6b64a9c537"
      },
      "execution_count": null,
      "outputs": [
        {
          "output_type": "execute_result",
          "data": {
            "text/plain": [
              "NodeView((14, 1999, 13, 2000, 15, 1998, 16, 1997, 17, 1996, 18, 1995, 19, 1994, 20, 1993, 21, 1992, 22, 1991, 23, 1990, 24, 1989, 25, 1988, 26, 1987, 27, 1986, 28, 1985, 29, 1984, 30, 1983, 31, 1982, 32, 1981, 33, 1980, 34, 1979, 35, 1978, 36, 1977, 37, 1976, 38, 1975, 39, 1974, 40, 1973, 41, 1972, 42, 1971, 43, 1970, 44, 1969, 45, 1968, 46, 1967, 47, 1966, 48, 1965, 50, 1963, 49, 1964, 51, 1962, 52, 1961, 53, 1960, 54, 1959, 55, 1958, 56, 1957, 57, 1956, 58, 1955, 59, 1954, 60, 1953, 61, 1952, 63, 1950, 62, 1951, 64, 1949, 65, 1948, 67, 1946, 66, 1947, 68, 1945, 69, 1944, 70, 1943, 71, 1942, 73, 1940, 72, 1941, 74, 1939, 76, 1937, 78, 1935, 79, 1934, 84, 1929, 88, 1925, 90, 1923, 92, 1921, 94, 1919, 95, 1918, 97, 1916, 100, 1913, 107, 1906, 108, 1905, 93, 1920, 81, 1932, 102, 1911, 77, 1936, 80, 1933, 75, 1938, 82, 1931, 101, 1912, 103, 1910, 85, 1928, 98, 1915, 106, 1907, 83, 1930, 87, 1926, 89, 1924, 91, 1922, 96, 1917, 86, 1927, 112, 1901, 113, 1900, 104, 1909, 105, 1908, 99, 1914, 198, '123', '2154'))"
            ]
          },
          "metadata": {},
          "execution_count": 10
        }
      ]
    },
    {
      "cell_type": "code",
      "source": [
        "import matplotlib.pyplot as plt\n",
        "%matplotlib inline"
      ],
      "metadata": {
        "id": "oE_POWnMSkaF"
      },
      "execution_count": null,
      "outputs": []
    },
    {
      "cell_type": "code",
      "source": [
        "!pip install scipy"
      ],
      "metadata": {
        "colab": {
          "base_uri": "https://localhost:8080/"
        },
        "id": "aAj8Jwu3Tr9t",
        "outputId": "2f989703-371c-47bb-b844-d4043ecf9df1"
      },
      "execution_count": null,
      "outputs": [
        {
          "output_type": "stream",
          "name": "stdout",
          "text": [
            "Looking in indexes: https://pypi.org/simple, https://us-python.pkg.dev/colab-wheels/public/simple/\n",
            "Requirement already satisfied: scipy in /usr/local/lib/python3.8/dist-packages (1.7.3)\n",
            "Requirement already satisfied: numpy<1.23.0,>=1.16.5 in /usr/local/lib/python3.8/dist-packages (from scipy) (1.21.6)\n"
          ]
        }
      ]
    },
    {
      "cell_type": "code",
      "source": [
        "%pip install 'networkx<2.7'"
      ],
      "metadata": {
        "colab": {
          "base_uri": "https://localhost:8080/",
          "height": 297
        },
        "id": "F2PLXSkZUbQc",
        "outputId": "24469b3d-d0cb-4173-c38f-00caa3caee55"
      },
      "execution_count": null,
      "outputs": [
        {
          "output_type": "stream",
          "name": "stdout",
          "text": [
            "Looking in indexes: https://pypi.org/simple, https://us-python.pkg.dev/colab-wheels/public/simple/\n",
            "Collecting networkx<2.7\n",
            "  Downloading networkx-2.6.3-py3-none-any.whl (1.9 MB)\n",
            "\u001b[2K     \u001b[90m━━━━━━━━━━━━━━━━━━━━━━━━━━━━━━━━━━━━━━━━\u001b[0m \u001b[32m1.9/1.9 MB\u001b[0m \u001b[31m36.5 MB/s\u001b[0m eta \u001b[36m0:00:00\u001b[0m\n",
            "\u001b[?25hInstalling collected packages: networkx\n",
            "  Attempting uninstall: networkx\n",
            "    Found existing installation: networkx 3.0\n",
            "    Uninstalling networkx-3.0:\n",
            "      Successfully uninstalled networkx-3.0\n",
            "Successfully installed networkx-2.6.3\n"
          ]
        },
        {
          "output_type": "display_data",
          "data": {
            "application/vnd.colab-display-data+json": {
              "pip_warning": {
                "packages": [
                  "networkx"
                ]
              }
            }
          },
          "metadata": {}
        }
      ]
    },
    {
      "cell_type": "code",
      "source": [
        "#display the facebook friends network\n",
        "nx.draw(fb_graph,with_labels=True)"
      ],
      "metadata": {
        "colab": {
          "base_uri": "https://localhost:8080/",
          "height": 319
        },
        "id": "y1fI6tWGUzJQ",
        "outputId": "e005b820-b9ac-400e-c85c-6e5f5922c2ef"
      },
      "execution_count": null,
      "outputs": [
        {
          "output_type": "display_data",
          "data": {
            "text/plain": [
              "<Figure size 432x288 with 1 Axes>"
            ],
            "image/png": "[encoded data removed]"
          },
          "metadata": {}
        }
      ]
    },
    {
      "cell_type": "code",
      "source": [
        "nx.has"
      ],
      "metadata": {
        "id": "QVcqeWL9T_jb"
      },
      "execution_count": null,
      "outputs": []
    },
    {
      "cell_type": "code",
      "source": [
        "#degree of each node\n",
        "nx.degree(fb_graph)"
      ],
      "metadata": {
        "colab": {
          "base_uri": "https://localhost:8080/"
        },
        "id": "dN81ETCTVGHT",
        "outputId": "092b0bde-d045-4b32-c290-9f7d5f8ed7b0"
      },
      "execution_count": null,
      "outputs": [
        {
          "output_type": "execute_result",
          "data": {
            "text/plain": [
              "DegreeView({14: 1, 1999: 1, 13: 1, 2000: 1, 15: 1, 1998: 1, 16: 1, 1997: 1, 17: 1, 1996: 1, 18: 1, 1995: 1, 19: 1, 1994: 1, 20: 1, 1993: 1, 21: 1, 1992: 1, 22: 1, 1991: 1, 23: 1, 1990: 1, 24: 1, 1989: 1, 25: 1, 1988: 1, 26: 1, 1987: 1, 27: 1, 1986: 1, 28: 1, 1985: 1, 29: 1, 1984: 1, 30: 1, 1983: 1, 31: 1, 1982: 1, 32: 1, 1981: 1, 33: 1, 1980: 1, 34: 1, 1979: 1, 35: 1, 1978: 1, 36: 1, 1977: 1, 37: 1, 1976: 1, 38: 1, 1975: 1, 39: 1, 1974: 1, 40: 1, 1973: 1, 41: 1, 1972: 1, 42: 1, 1971: 1, 43: 1, 1970: 1, 44: 1, 1969: 1, 45: 1, 1968: 1, 46: 1, 1967: 1, 47: 1, 1966: 1, 48: 1, 1965: 1, 50: 1, 1963: 1, 49: 1, 1964: 1, 51: 1, 1962: 1, 52: 1, 1961: 1, 53: 1, 1960: 1, 54: 1, 1959: 1, 55: 1, 1958: 1, 56: 1, 1957: 1, 57: 1, 1956: 1, 58: 1, 1955: 1, 59: 1, 1954: 1, 60: 1, 1953: 1, 61: 1, 1952: 1, 63: 1, 1950: 1, 62: 1, 1951: 1, 64: 1, 1949: 1, 65: 1, 1948: 1, 67: 1, 1946: 1, 66: 1, 1947: 1, 68: 1, 1945: 1, 69: 1, 1944: 1, 70: 1, 1943: 1, 71: 1, 1942: 1, 73: 1, 1940: 1, 72: 1, 1941: 1, 74: 1, 1939: 1, 76: 1, 1937: 1, 78: 1, 1935: 1, 79: 1, 1934: 1, 84: 1, 1929: 1, 88: 1, 1925: 1, 90: 1, 1923: 1, 92: 1, 1921: 1, 94: 1, 1919: 1, 95: 1, 1918: 1, 97: 1, 1916: 1, 100: 1, 1913: 1, 107: 1, 1906: 1, 108: 1, 1905: 1, 93: 1, 1920: 1, 81: 1, 1932: 1, 102: 1, 1911: 1, 77: 1, 1936: 1, 80: 1, 1933: 1, 75: 1, 1938: 1, 82: 1, 1931: 1, 101: 1, 1912: 1, 103: 1, 1910: 1, 85: 1, 1928: 1, 98: 1, 1915: 1, 106: 1, 1907: 1, 83: 1, 1930: 1, 87: 1, 1926: 1, 89: 1, 1924: 1, 91: 1, 1922: 1, 96: 1, 1917: 1, 86: 1, 1927: 1, 112: 1, 1901: 1, 113: 1, 1900: 1, 104: 1, 1909: 1, 105: 1, 1908: 1, 99: 1, 1914: 1, 111: 1, 1902: 1, 109: 1, 1904: 1, 110: 1, 1903: 1, '123': 1, '2154': 1})"
            ]
          },
          "metadata": {},
          "execution_count": 58
        }
      ]
    },
    {
      "cell_type": "code",
      "source": [
        "nx.degree(fb_graph,1999)"
      ],
      "metadata": {
        "colab": {
          "base_uri": "https://localhost:8080/"
        },
        "id": "fTUKm4T7VQHb",
        "outputId": "57379aa1-b743-46ed-f96d-25552ee5697b"
      },
      "execution_count": null,
      "outputs": [
        {
          "output_type": "execute_result",
          "data": {
            "text/plain": [
              "1"
            ]
          },
          "metadata": {},
          "execution_count": 20
        }
      ]
    },
    {
      "cell_type": "code",
      "source": [
        "#degree centrality\n",
        "nx.degree_centrality(fb_graph)"
      ],
      "metadata": {
        "colab": {
          "base_uri": "https://localhost:8080/"
        },
        "id": "266PKBreVZMj",
        "outputId": "253322c5-f006-4c1d-ff74-f41f5755372f"
      },
      "execution_count": null,
      "outputs": [
        {
          "output_type": "execute_result",
          "data": {
            "text/plain": [
              "{14: 0.005050505050505051,\n",
              " 1999: 0.005050505050505051,\n",
              " 13: 0.005050505050505051,\n",
              " 2000: 0.005050505050505051,\n",
              " 15: 0.005050505050505051,\n",
              " 1998: 0.005050505050505051,\n",
              " 16: 0.005050505050505051,\n",
              " 1997: 0.005050505050505051,\n",
              " 17: 0.005050505050505051,\n",
              " 1996: 0.005050505050505051,\n",
              " 18: 0.005050505050505051,\n",
              " 1995: 0.005050505050505051,\n",
              " 19: 0.005050505050505051,\n",
              " 1994: 0.005050505050505051,\n",
              " 20: 0.005050505050505051,\n",
              " 1993: 0.005050505050505051,\n",
              " 21: 0.005050505050505051,\n",
              " 1992: 0.005050505050505051,\n",
              " 22: 0.005050505050505051,\n",
              " 1991: 0.005050505050505051,\n",
              " 23: 0.005050505050505051,\n",
              " 1990: 0.005050505050505051,\n",
              " 24: 0.005050505050505051,\n",
              " 1989: 0.005050505050505051,\n",
              " 25: 0.005050505050505051,\n",
              " 1988: 0.005050505050505051,\n",
              " 26: 0.005050505050505051,\n",
              " 1987: 0.005050505050505051,\n",
              " 27: 0.010101010101010102,\n",
              " 1986: 0.005050505050505051,\n",
              " 28: 0.005050505050505051,\n",
              " 1985: 0.005050505050505051,\n",
              " 29: 0.005050505050505051,\n",
              " 1984: 0.005050505050505051,\n",
              " 30: 0.005050505050505051,\n",
              " 1983: 0.005050505050505051,\n",
              " 31: 0.005050505050505051,\n",
              " 1982: 0.005050505050505051,\n",
              " 32: 0.005050505050505051,\n",
              " 1981: 0.005050505050505051,\n",
              " 33: 0.005050505050505051,\n",
              " 1980: 0.005050505050505051,\n",
              " 34: 0.005050505050505051,\n",
              " 1979: 0.005050505050505051,\n",
              " 35: 0.005050505050505051,\n",
              " 1978: 0.005050505050505051,\n",
              " 36: 0.005050505050505051,\n",
              " 1977: 0.005050505050505051,\n",
              " 37: 0.005050505050505051,\n",
              " 1976: 0.005050505050505051,\n",
              " 38: 0.005050505050505051,\n",
              " 1975: 0.005050505050505051,\n",
              " 39: 0.005050505050505051,\n",
              " 1974: 0.005050505050505051,\n",
              " 40: 0.005050505050505051,\n",
              " 1973: 0.005050505050505051,\n",
              " 41: 0.005050505050505051,\n",
              " 1972: 0.005050505050505051,\n",
              " 42: 0.005050505050505051,\n",
              " 1971: 0.005050505050505051,\n",
              " 43: 0.005050505050505051,\n",
              " 1970: 0.005050505050505051,\n",
              " 44: 0.005050505050505051,\n",
              " 1969: 0.005050505050505051,\n",
              " 45: 0.005050505050505051,\n",
              " 1968: 0.005050505050505051,\n",
              " 46: 0.005050505050505051,\n",
              " 1967: 0.005050505050505051,\n",
              " 47: 0.005050505050505051,\n",
              " 1966: 0.005050505050505051,\n",
              " 48: 0.005050505050505051,\n",
              " 1965: 0.005050505050505051,\n",
              " 50: 0.005050505050505051,\n",
              " 1963: 0.005050505050505051,\n",
              " 49: 0.005050505050505051,\n",
              " 1964: 0.005050505050505051,\n",
              " 51: 0.005050505050505051,\n",
              " 1962: 0.005050505050505051,\n",
              " 52: 0.005050505050505051,\n",
              " 1961: 0.005050505050505051,\n",
              " 53: 0.005050505050505051,\n",
              " 1960: 0.005050505050505051,\n",
              " 54: 0.005050505050505051,\n",
              " 1959: 0.005050505050505051,\n",
              " 55: 0.005050505050505051,\n",
              " 1958: 0.005050505050505051,\n",
              " 56: 0.005050505050505051,\n",
              " 1957: 0.005050505050505051,\n",
              " 57: 0.005050505050505051,\n",
              " 1956: 0.005050505050505051,\n",
              " 58: 0.005050505050505051,\n",
              " 1955: 0.005050505050505051,\n",
              " 59: 0.005050505050505051,\n",
              " 1954: 0.005050505050505051,\n",
              " 60: 0.005050505050505051,\n",
              " 1953: 0.005050505050505051,\n",
              " 61: 0.005050505050505051,\n",
              " 1952: 0.005050505050505051,\n",
              " 63: 0.005050505050505051,\n",
              " 1950: 0.005050505050505051,\n",
              " 62: 0.005050505050505051,\n",
              " 1951: 0.005050505050505051,\n",
              " 64: 0.005050505050505051,\n",
              " 1949: 0.005050505050505051,\n",
              " 65: 0.005050505050505051,\n",
              " 1948: 0.005050505050505051,\n",
              " 67: 0.005050505050505051,\n",
              " 1946: 0.005050505050505051,\n",
              " 66: 0.005050505050505051,\n",
              " 1947: 0.005050505050505051,\n",
              " 68: 0.005050505050505051,\n",
              " 1945: 0.005050505050505051,\n",
              " 69: 0.005050505050505051,\n",
              " 1944: 0.005050505050505051,\n",
              " 70: 0.005050505050505051,\n",
              " 1943: 0.005050505050505051,\n",
              " 71: 0.005050505050505051,\n",
              " 1942: 0.005050505050505051,\n",
              " 73: 0.005050505050505051,\n",
              " 1940: 0.005050505050505051,\n",
              " 72: 0.005050505050505051,\n",
              " 1941: 0.005050505050505051,\n",
              " 74: 0.005050505050505051,\n",
              " 1939: 0.005050505050505051,\n",
              " 76: 0.005050505050505051,\n",
              " 1937: 0.005050505050505051,\n",
              " 78: 0.005050505050505051,\n",
              " 1935: 0.005050505050505051,\n",
              " 79: 0.005050505050505051,\n",
              " 1934: 0.005050505050505051,\n",
              " 84: 0.005050505050505051,\n",
              " 1929: 0.005050505050505051,\n",
              " 88: 0.005050505050505051,\n",
              " 1925: 0.005050505050505051,\n",
              " 90: 0.005050505050505051,\n",
              " 1923: 0.005050505050505051,\n",
              " 92: 0.005050505050505051,\n",
              " 1921: 0.005050505050505051,\n",
              " 94: 0.005050505050505051,\n",
              " 1919: 0.005050505050505051,\n",
              " 95: 0.005050505050505051,\n",
              " 1918: 0.005050505050505051,\n",
              " 97: 0.005050505050505051,\n",
              " 1916: 0.005050505050505051,\n",
              " 100: 0.005050505050505051,\n",
              " 1913: 0.005050505050505051,\n",
              " 107: 0.005050505050505051,\n",
              " 1906: 0.005050505050505051,\n",
              " 108: 0.005050505050505051,\n",
              " 1905: 0.005050505050505051,\n",
              " 93: 0.005050505050505051,\n",
              " 1920: 0.005050505050505051,\n",
              " 81: 0.005050505050505051,\n",
              " 1932: 0.005050505050505051,\n",
              " 102: 0.005050505050505051,\n",
              " 1911: 0.005050505050505051,\n",
              " 77: 0.005050505050505051,\n",
              " 1936: 0.005050505050505051,\n",
              " 80: 0.005050505050505051,\n",
              " 1933: 0.005050505050505051,\n",
              " 75: 0.005050505050505051,\n",
              " 1938: 0.005050505050505051,\n",
              " 82: 0.005050505050505051,\n",
              " 1931: 0.005050505050505051,\n",
              " 101: 0.005050505050505051,\n",
              " 1912: 0.005050505050505051,\n",
              " 103: 0.005050505050505051,\n",
              " 1910: 0.005050505050505051,\n",
              " 85: 0.005050505050505051,\n",
              " 1928: 0.005050505050505051,\n",
              " 98: 0.005050505050505051,\n",
              " 1915: 0.005050505050505051,\n",
              " 106: 0.005050505050505051,\n",
              " 1907: 0.005050505050505051,\n",
              " 83: 0.005050505050505051,\n",
              " 1930: 0.005050505050505051,\n",
              " 87: 0.005050505050505051,\n",
              " 1926: 0.005050505050505051,\n",
              " 89: 0.005050505050505051,\n",
              " 1924: 0.005050505050505051,\n",
              " 91: 0.005050505050505051,\n",
              " 1922: 0.005050505050505051,\n",
              " 96: 0.005050505050505051,\n",
              " 1917: 0.005050505050505051,\n",
              " 86: 0.005050505050505051,\n",
              " 1927: 0.005050505050505051,\n",
              " 112: 0.005050505050505051,\n",
              " 1901: 0.005050505050505051,\n",
              " 113: 0.005050505050505051,\n",
              " 1900: 0.005050505050505051,\n",
              " 104: 0.005050505050505051,\n",
              " 1909: 0.005050505050505051,\n",
              " 105: 0.005050505050505051,\n",
              " 1908: 0.005050505050505051,\n",
              " 99: 0.005050505050505051,\n",
              " 1914: 0.005050505050505051,\n",
              " 198: 0.005050505050505051,\n",
              " '123': 0.005050505050505051,\n",
              " '2154': 0.005050505050505051}"
            ]
          },
          "metadata": {},
          "execution_count": 21
        }
      ]
    },
    {
      "cell_type": "code",
      "source": [
        "sorted(nx.degree_centrality(fb_graph).values())\n",
        "m_influential=nx.degree_centrality(G)\n",
        "for w in sorted(m_influential,key=m_influential.get,reverse=True):\n",
        "  print(w,m_influential[w])"
      ],
      "metadata": {
        "colab": {
          "base_uri": "https://localhost:8080/"
        },
        "id": "mcw914NCVjYL",
        "outputId": "26b34690-c96c-4c71-88cf-a79e02c64a7c"
      },
      "execution_count": null,
      "outputs": [
        {
          "output_type": "stream",
          "name": "stdout",
          "text": [
            "27 0.010101010101010102\n",
            "14 0.005050505050505051\n",
            "1999 0.005050505050505051\n",
            "13 0.005050505050505051\n",
            "2000 0.005050505050505051\n",
            "15 0.005050505050505051\n",
            "1998 0.005050505050505051\n",
            "16 0.005050505050505051\n",
            "1997 0.005050505050505051\n",
            "17 0.005050505050505051\n",
            "1996 0.005050505050505051\n",
            "18 0.005050505050505051\n",
            "1995 0.005050505050505051\n",
            "19 0.005050505050505051\n",
            "1994 0.005050505050505051\n",
            "20 0.005050505050505051\n",
            "1993 0.005050505050505051\n",
            "21 0.005050505050505051\n",
            "1992 0.005050505050505051\n",
            "22 0.005050505050505051\n",
            "1991 0.005050505050505051\n",
            "23 0.005050505050505051\n",
            "1990 0.005050505050505051\n",
            "24 0.005050505050505051\n",
            "1989 0.005050505050505051\n",
            "25 0.005050505050505051\n",
            "1988 0.005050505050505051\n",
            "26 0.005050505050505051\n",
            "1987 0.005050505050505051\n",
            "1986 0.005050505050505051\n",
            "28 0.005050505050505051\n",
            "1985 0.005050505050505051\n",
            "29 0.005050505050505051\n",
            "1984 0.005050505050505051\n",
            "30 0.005050505050505051\n",
            "1983 0.005050505050505051\n",
            "31 0.005050505050505051\n",
            "1982 0.005050505050505051\n",
            "32 0.005050505050505051\n",
            "1981 0.005050505050505051\n",
            "33 0.005050505050505051\n",
            "1980 0.005050505050505051\n",
            "34 0.005050505050505051\n",
            "1979 0.005050505050505051\n",
            "35 0.005050505050505051\n",
            "1978 0.005050505050505051\n",
            "36 0.005050505050505051\n",
            "1977 0.005050505050505051\n",
            "37 0.005050505050505051\n",
            "1976 0.005050505050505051\n",
            "38 0.005050505050505051\n",
            "1975 0.005050505050505051\n",
            "39 0.005050505050505051\n",
            "1974 0.005050505050505051\n",
            "40 0.005050505050505051\n",
            "1973 0.005050505050505051\n",
            "41 0.005050505050505051\n",
            "1972 0.005050505050505051\n",
            "42 0.005050505050505051\n",
            "1971 0.005050505050505051\n",
            "43 0.005050505050505051\n",
            "1970 0.005050505050505051\n",
            "44 0.005050505050505051\n",
            "1969 0.005050505050505051\n",
            "45 0.005050505050505051\n",
            "1968 0.005050505050505051\n",
            "46 0.005050505050505051\n",
            "1967 0.005050505050505051\n",
            "47 0.005050505050505051\n",
            "1966 0.005050505050505051\n",
            "48 0.005050505050505051\n",
            "1965 0.005050505050505051\n",
            "50 0.005050505050505051\n",
            "1963 0.005050505050505051\n",
            "49 0.005050505050505051\n",
            "1964 0.005050505050505051\n",
            "51 0.005050505050505051\n",
            "1962 0.005050505050505051\n",
            "52 0.005050505050505051\n",
            "1961 0.005050505050505051\n",
            "53 0.005050505050505051\n",
            "1960 0.005050505050505051\n",
            "54 0.005050505050505051\n",
            "1959 0.005050505050505051\n",
            "55 0.005050505050505051\n",
            "1958 0.005050505050505051\n",
            "56 0.005050505050505051\n",
            "1957 0.005050505050505051\n",
            "57 0.005050505050505051\n",
            "1956 0.005050505050505051\n",
            "58 0.005050505050505051\n",
            "1955 0.005050505050505051\n",
            "59 0.005050505050505051\n",
            "1954 0.005050505050505051\n",
            "60 0.005050505050505051\n",
            "1953 0.005050505050505051\n",
            "61 0.005050505050505051\n",
            "1952 0.005050505050505051\n",
            "63 0.005050505050505051\n",
            "1950 0.005050505050505051\n",
            "62 0.005050505050505051\n",
            "1951 0.005050505050505051\n",
            "64 0.005050505050505051\n",
            "1949 0.005050505050505051\n",
            "65 0.005050505050505051\n",
            "1948 0.005050505050505051\n",
            "67 0.005050505050505051\n",
            "1946 0.005050505050505051\n",
            "66 0.005050505050505051\n",
            "1947 0.005050505050505051\n",
            "68 0.005050505050505051\n",
            "1945 0.005050505050505051\n",
            "69 0.005050505050505051\n",
            "1944 0.005050505050505051\n",
            "70 0.005050505050505051\n",
            "1943 0.005050505050505051\n",
            "71 0.005050505050505051\n",
            "1942 0.005050505050505051\n",
            "73 0.005050505050505051\n",
            "1940 0.005050505050505051\n",
            "72 0.005050505050505051\n",
            "1941 0.005050505050505051\n",
            "74 0.005050505050505051\n",
            "1939 0.005050505050505051\n",
            "76 0.005050505050505051\n",
            "1937 0.005050505050505051\n",
            "78 0.005050505050505051\n",
            "1935 0.005050505050505051\n",
            "79 0.005050505050505051\n",
            "1934 0.005050505050505051\n",
            "84 0.005050505050505051\n",
            "1929 0.005050505050505051\n",
            "88 0.005050505050505051\n",
            "1925 0.005050505050505051\n",
            "90 0.005050505050505051\n",
            "1923 0.005050505050505051\n",
            "92 0.005050505050505051\n",
            "1921 0.005050505050505051\n",
            "94 0.005050505050505051\n",
            "1919 0.005050505050505051\n",
            "95 0.005050505050505051\n",
            "1918 0.005050505050505051\n",
            "97 0.005050505050505051\n",
            "1916 0.005050505050505051\n",
            "100 0.005050505050505051\n",
            "1913 0.005050505050505051\n",
            "107 0.005050505050505051\n",
            "1906 0.005050505050505051\n",
            "108 0.005050505050505051\n",
            "1905 0.005050505050505051\n",
            "93 0.005050505050505051\n",
            "1920 0.005050505050505051\n",
            "81 0.005050505050505051\n",
            "1932 0.005050505050505051\n",
            "102 0.005050505050505051\n",
            "1911 0.005050505050505051\n",
            "77 0.005050505050505051\n",
            "1936 0.005050505050505051\n",
            "80 0.005050505050505051\n",
            "1933 0.005050505050505051\n",
            "75 0.005050505050505051\n",
            "1938 0.005050505050505051\n",
            "82 0.005050505050505051\n",
            "1931 0.005050505050505051\n",
            "101 0.005050505050505051\n",
            "1912 0.005050505050505051\n",
            "103 0.005050505050505051\n",
            "1910 0.005050505050505051\n",
            "85 0.005050505050505051\n",
            "1928 0.005050505050505051\n",
            "98 0.005050505050505051\n",
            "1915 0.005050505050505051\n",
            "106 0.005050505050505051\n",
            "1907 0.005050505050505051\n",
            "83 0.005050505050505051\n",
            "1930 0.005050505050505051\n",
            "87 0.005050505050505051\n",
            "1926 0.005050505050505051\n",
            "89 0.005050505050505051\n",
            "1924 0.005050505050505051\n",
            "91 0.005050505050505051\n",
            "1922 0.005050505050505051\n",
            "96 0.005050505050505051\n",
            "1917 0.005050505050505051\n",
            "86 0.005050505050505051\n",
            "1927 0.005050505050505051\n",
            "112 0.005050505050505051\n",
            "1901 0.005050505050505051\n",
            "113 0.005050505050505051\n",
            "1900 0.005050505050505051\n",
            "104 0.005050505050505051\n",
            "1909 0.005050505050505051\n",
            "105 0.005050505050505051\n",
            "1908 0.005050505050505051\n",
            "99 0.005050505050505051\n",
            "1914 0.005050505050505051\n",
            "198 0.005050505050505051\n",
            "123 0.005050505050505051\n",
            "2154 0.005050505050505051\n"
          ]
        }
      ]
    },
    {
      "cell_type": "code",
      "source": [
        "pos=nx.spring_layout(G)\n",
        "betCent=nx.betweenness_centrality(G,normalized=True,endpoints=True)\n",
        "node_color=[20000.0*G.degree(v)for v in G]\n",
        "node_size=[v*10000 for v in betCent.values()]\n",
        "plt.figure(figsize=(20,20))\n",
        "nx.draw_networkx(G,pos=pos,with_labels=False,node_color=node_color,node_size=node_size)\n",
        "sorted(betCent,key=betCent.get,reverse=True)[:5]\n"
      ],
      "metadata": {
        "colab": {
          "base_uri": "https://localhost:8080/",
          "height": 646
        },
        "id": "kwVS4YUxY0x-",
        "outputId": "658cfa6f-a857-43c6-f1a6-78c46fd2ee85"
      },
      "execution_count": null,
      "outputs": [
        {
          "output_type": "execute_result",
          "data": {
            "text/plain": [
              "[27, 1986, 198, 14, 1999]"
            ]
          },
          "metadata": {},
          "execution_count": 37
        },
        {
          "output_type": "display_data",
          "data": {
            "text/plain": [
              "<Figure size 1440x1440 with 1 Axes>"
            ],
            "image/png": "[encoded data removed]"
          },
          "metadata": {}
        }
      ]
    },
    {
      "cell_type": "code",
      "source": [
        "#closeness centrality\n",
        "closeness_centrality=nx.centrality.closeness_centrality(G)\n",
        "(sorted(closeness_centrality.items(),key=lambda item:item[1],reverse=True))[:8]"
      ],
      "metadata": {
        "colab": {
          "base_uri": "https://localhost:8080/"
        },
        "id": "Ku3n8rLXbJ_7",
        "outputId": "60f6156b-405a-460c-a6a4-819f0e983062"
      },
      "execution_count": null,
      "outputs": [
        {
          "output_type": "execute_result",
          "data": {
            "text/plain": [
              "[(27, 0.010101010101010102),\n",
              " (1986, 0.006734006734006735),\n",
              " (198, 0.006734006734006735),\n",
              " (14, 0.005050505050505051),\n",
              " (1999, 0.005050505050505051),\n",
              " (13, 0.005050505050505051),\n",
              " (2000, 0.005050505050505051),\n",
              " (15, 0.005050505050505051)]"
            ]
          },
          "metadata": {},
          "execution_count": 28
        }
      ]
    },
    {
      "cell_type": "code",
      "source": [
        "#bridges\n",
        "nx.has_bridges(G)"
      ],
      "metadata": {
        "colab": {
          "base_uri": "https://localhost:8080/"
        },
        "id": "HFCjedXnVf4A",
        "outputId": "3ce7e402-4781-48a1-e3d7-527e0a280068"
      },
      "execution_count": null,
      "outputs": [
        {
          "output_type": "execute_result",
          "data": {
            "text/plain": [
              "True"
            ]
          },
          "metadata": {},
          "execution_count": 31
        }
      ]
    },
    {
      "cell_type": "code",
      "source": [
        "bridges=list(nx.bridges(G))\n",
        "len(bridges)"
      ],
      "metadata": {
        "colab": {
          "base_uri": "https://localhost:8080/"
        },
        "id": "E3gCN96eVsYN",
        "outputId": "8cf1ea12-972a-4d2a-bf04-a442f9675caa"
      },
      "execution_count": null,
      "outputs": [
        {
          "output_type": "execute_result",
          "data": {
            "text/plain": [
              "100"
            ]
          },
          "metadata": {},
          "execution_count": 32
        }
      ]
    },
    {
      "cell_type": "code",
      "source": [
        "local_bridges=list(nx.local_bridges(G,with_span=False))\n",
        "len(bridges)"
      ],
      "metadata": {
        "colab": {
          "base_uri": "https://localhost:8080/"
        },
        "id": "Grp1KoypWAfx",
        "outputId": "073e1d1e-95be-442a-c6ad-a91689843675"
      },
      "execution_count": null,
      "outputs": [
        {
          "output_type": "execute_result",
          "data": {
            "text/plain": [
              "100"
            ]
          },
          "metadata": {},
          "execution_count": 33
        }
      ]
    },
    {
      "cell_type": "code",
      "source": [
        "plt.figure(figsize=(15,5))\n",
        "nx.draw_networkx(G,pos=pos,node_size=10,with_labels=False,width=0.15)\n",
        "nx.draw_networkx_edges(G,pos,edgelist=local_bridges,width=0.5,edge_color=\"green\")\n",
        "nx.draw_networkx_edges(G,pos,edgelist=local_bridges,width=0.5,edge_color=\"blue\")\n",
        "plt.axis(\"off\")"
      ],
      "metadata": {
        "colab": {
          "base_uri": "https://localhost:8080/",
          "height": 297
        },
        "id": "RtlD5F23WUzX",
        "outputId": "c2942206-f3f5-45a9-c7d2-0b37bc5e3f45"
      },
      "execution_count": null,
      "outputs": [
        {
          "output_type": "execute_result",
          "data": {
            "text/plain": [
              "(-1.1994637749101358,\n",
              " 1.2089988202403295,\n",
              " -1.201799785994214,\n",
              " 1.1446655484060724)"
            ]
          },
          "metadata": {},
          "execution_count": 35
        },
        {
          "output_type": "display_data",
          "data": {
            "text/plain": [
              "<Figure size 1080x360 with 1 Axes>"
            ],
            "image/png": "[encoded data removed]"
          },
          "metadata": {}
        }
      ]
    },
    {
      "cell_type": "code",
      "source": [
        "#clustering\n",
        "nx.average_clustering(G)"
      ],
      "metadata": {
        "colab": {
          "base_uri": "https://localhost:8080/"
        },
        "id": "pGEnuRaGcqkT",
        "outputId": "47a079ad-3954-4cf4-9c51-4e5885d1e9fd"
      },
      "execution_count": null,
      "outputs": [
        {
          "output_type": "execute_result",
          "data": {
            "text/plain": [
              "0.0"
            ]
          },
          "metadata": {},
          "execution_count": 30
        }
      ]
    }
  ]
}