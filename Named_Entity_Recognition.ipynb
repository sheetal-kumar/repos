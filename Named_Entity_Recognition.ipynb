{
  "nbformat": 4,
  "nbformat_minor": 0,
  "metadata": {
    "colab": {
      "provenance": [],
      "authorship_tag": "ABX9TyMI5asGTRsKtmOIvfDrKytZ",
      "include_colab_link": true
    },
    "kernelspec": {
      "name": "python3",
      "display_name": "Python 3"
    },
    "language_info": {
      "name": "python"
    }
  },
  "cells": [
    {
      "cell_type": "markdown",
      "metadata": {
        "id": "view-in-github",
        "colab_type": "text"
      },
      "source": [
        "<a href=\"https://colab.research.google.com/github/sheetal-kumar/repos/blob/main/Named_Entity_Recognition.ipynb\" target=\"_parent\"><img src=\"https://colab.research.google.com/assets/colab-badge.svg\" alt=\"Open In Colab\"/></a>"
      ]
    },
    {
      "cell_type": "code",
      "execution_count": null,
      "metadata": {
        "id": "q8sJVS6vYEdB"
      },
      "outputs": [],
      "source": [
        "import nltk\n",
        "from nltk.wsd import lesk\n",
        "from nltk.tokenize import word_tokenize\n",
        "nltk.download('all')\n"
      ]
    },
    {
      "cell_type": "code",
      "source": [
        "def get_semantic(seq, key_word):\n",
        "\t\n",
        "\t# Tokenization \n",
        "\ttemp = word_tokenize(seq)\n",
        "\t\n",
        "\t# Retrieving the definition of the tokens\n",
        "\ttemp = lesk(temp, key_word)\n",
        "\treturn temp.definition()\n"
      ],
      "metadata": {
        "id": "d5lKNW-jYJ85"
      },
      "execution_count": null,
      "outputs": []
    },
    {
      "cell_type": "code",
      "source": [
        "keyword = 'book'\n",
        "seq1 = 'I love reading books on science.'\n",
        "seq2 = 'The table was already booked by someone else.'\n",
        "\n",
        "print(get_semantic(seq1, keyword))\n",
        "print(get_semantic(seq2, keyword))\n"
      ],
      "metadata": {
        "colab": {
          "base_uri": "https://localhost:8080/"
        },
        "id": "x9sWs-RNYLfF",
        "outputId": "5551ba8e-30e5-411e-be93-3afb9b54dca1"
      },
      "execution_count": null,
      "outputs": [
        {
          "output_type": "stream",
          "name": "stdout",
          "text": [
            "a number of sheets (ticket or stamps etc.) bound together on one edge\n",
            "arrange for and reserve (something for someone else) in advance\n"
          ]
        }
      ]
    },
    {
      "cell_type": "code",
      "source": [
        "from nltk.corpus import wordnet\n",
        "syns = wordnet.synsets(\"bright\")\n",
        "print(syns)"
      ],
      "metadata": {
        "colab": {
          "base_uri": "https://localhost:8080/"
        },
        "id": "RSJqX_OkZmNA",
        "outputId": "42e14a9b-cdb9-4da5-980e-814a0a29a54f"
      },
      "execution_count": null,
      "outputs": [
        {
          "output_type": "stream",
          "name": "stdout",
          "text": [
            "[Synset('bright.a.01'), Synset('bright.s.02'), Synset('bright.s.03'), Synset('bright.s.04'), Synset('bright.s.05'), Synset('bright.s.06'), Synset('undimmed.a.01'), Synset('bright.s.08'), Synset('bright.s.09'), Synset('bright.s.10'), Synset('brilliantly.r.01')]\n"
          ]
        }
      ]
    },
    {
      "cell_type": "code",
      "source": [
        "from nltk.corpus import wordnet\n",
        "synonyms = []\n",
        "antonyms = []\n",
        "for syn in wordnet.synsets(\"active\"):\n",
        "    for l in syn.lemmas():\n",
        "        synonyms.append(l.name())\n",
        "        if l.antonyms():\n",
        "            antonyms.append(l.antonyms()[0].name())\n",
        "print(set(synonyms))\n",
        "print(set(antonyms))"
      ],
      "metadata": {
        "colab": {
          "base_uri": "https://localhost:8080/"
        },
        "id": "wa0yohugal5B",
        "outputId": "fe3bdb3d-83e1-4e97-db3a-bebf058cc03c"
      },
      "execution_count": null,
      "outputs": [
        {
          "output_type": "stream",
          "name": "stdout",
          "text": [
            "{'participating', 'dynamic', 'combat-ready', 'fighting', 'active_voice', 'active_agent', 'active', 'alive'}\n",
            "{'quiet', 'stative', 'inactive', 'passive', 'dormant', 'passive_voice', 'extinct'}\n"
          ]
        }
      ]
    },
    {
      "cell_type": "code",
      "source": [
        "import spacy\n",
        "nlp = spacy.load('en_core_web_sm')\n",
        "sentence = \"Elon Musk bought Twitter for 44 billion\"\n",
        "doc = nlp(sentence)\n",
        "for ent in doc.ents:\n",
        " print(ent.text, ent.start_char, ent.end_char, ent.label_)"
      ],
      "metadata": {
        "colab": {
          "base_uri": "https://localhost:8080/"
        },
        "id": "cfPN-lXxeTNC",
        "outputId": "6f706eea-b9dd-4bf9-d8ee-e8ef0931a75e"
      },
      "execution_count": null,
      "outputs": [
        {
          "output_type": "stream",
          "name": "stdout",
          "text": [
            "Elon Musk 0 9 PERSON\n",
            "Twitter 17 24 PRODUCT\n",
            "44 billion 29 39 MONEY\n"
          ]
        }
      ]
    },
    {
      "cell_type": "code",
      "source": [
        "import spacy\n",
        "nlp = spacy.load('en_core_web_sm')\n",
        "sentence = \"elon musk bought twitter for 44 billion\"\n",
        "doc = nlp(sentence)\n",
        "for ent in doc.ents:\n",
        " print(ent.text, ent.start_char, ent.end_char, ent.label_)"
      ],
      "metadata": {
        "colab": {
          "base_uri": "https://localhost:8080/"
        },
        "id": "CUdXDctOfkC7",
        "outputId": "5d566e9c-e1dd-4e13-8be0-ff57cbb3b48d"
      },
      "execution_count": null,
      "outputs": [
        {
          "output_type": "stream",
          "name": "stdout",
          "text": [
            "elon musk 0 9 PERSON\n",
            "44 billion 29 39 MONEY\n"
          ]
        }
      ]
    }
  ]
}