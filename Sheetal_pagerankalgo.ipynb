{
  "nbformat": 4,
  "nbformat_minor": 0,
  "metadata": {
    "colab": {
      "provenance": [],
      "authorship_tag": "ABX9TyMjssDsM+W1ai/0tbcmOUCI",
      "include_colab_link": true
    },
    "kernelspec": {
      "name": "python3",
      "display_name": "Python 3"
    },
    "language_info": {
      "name": "python"
    }
  },
  "cells": [
    {
      "cell_type": "markdown",
      "metadata": {
        "id": "view-in-github",
        "colab_type": "text"
      },
      "source": [
        "<a href=\"https://colab.research.google.com/github/sheetal-kumar/repos/blob/main/Sheetal_pagerankalgo.ipynb\" target=\"_parent\"><img src=\"https://colab.research.google.com/assets/colab-badge.svg\" alt=\"Open In Colab\"/></a>"
      ]
    },
    {
      "cell_type": "code",
      "execution_count": 1,
      "metadata": {
        "id": "0Vl_ZBbtfyeh"
      },
      "outputs": [],
      "source": [
        "import numpy as np\n",
        "\n",
        "def pagerank(M, num_iterations=100, d=0.85):\n",
        "    N = M.shape[0]\n",
        "    v = np.random.rand(N, 1)\n",
        "    v = v / np.linalg.norm(v, 1)\n",
        "    M_hat = (d * M + (1 - d) / N * np.ones((N, N)))\n",
        "    for i in range(num_iterations):\n",
        "        v = M_hat @ v\n",
        "    return v\n"
      ]
    },
    {
      "cell_type": "code",
      "source": [
        "M = np.array([[0, 0, 1, 0],\n",
        "              [1, 0, 0, 1],\n",
        "              [0, 1, 0, 1],\n",
        "              [0, 0, 1, 0]])\n",
        "\n",
        "v = pagerank(M)\n",
        "print(v)\n"
      ],
      "metadata": {
        "colab": {
          "base_uri": "https://localhost:8080/",
          "height": 0
        },
        "id": "VzGVYUS1f_7x",
        "outputId": "d0c9a8a2-c465-43d5-e4c2-18c6d2cbd951"
      },
      "execution_count": 2,
      "outputs": [
        {
          "output_type": "stream",
          "name": "stdout",
          "text": [
            "[[1.43351618e+15]\n",
            " [1.86988338e+15]\n",
            " [2.12729363e+15]\n",
            " [1.43351618e+15]]\n"
          ]
        }
      ]
    }
  ]
}