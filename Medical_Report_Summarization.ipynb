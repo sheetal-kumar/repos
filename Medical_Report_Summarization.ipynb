{
  "nbformat": 4,
  "nbformat_minor": 0,
  "metadata": {
    "colab": {
      "provenance": [],
      "authorship_tag": "ABX9TyO9IqkkLk65cUHSXWQGONP2",
      "include_colab_link": true
    },
    "kernelspec": {
      "name": "python3",
      "display_name": "Python 3"
    },
    "language_info": {
      "name": "python"
    }
  },
  "cells": [
    {
      "cell_type": "markdown",
      "metadata": {
        "id": "view-in-github",
        "colab_type": "text"
      },
      "source": [
        "<a href=\"https://colab.research.google.com/github/sheetal-kumar/repos/blob/main/Medical_Report_Summarization.ipynb\" target=\"_parent\"><img src=\"https://colab.research.google.com/assets/colab-badge.svg\" alt=\"Open In Colab\"/></a>"
      ]
    },
    {
      "cell_type": "code",
      "execution_count": null,
      "metadata": {
        "colab": {
          "base_uri": "https://localhost:8080/"
        },
        "id": "2BBvFl1kXgRR",
        "outputId": "528b4edf-5bd8-4fb4-a717-c1e13b246a9e"
      },
      "outputs": [
        {
          "output_type": "stream",
          "name": "stderr",
          "text": [
            "/usr/local/lib/python3.9/dist-packages/torch/cuda/__init__.py:497: UserWarning: Can't initialize NVML\n",
            "  warnings.warn(\"Can't initialize NVML\")\n"
          ]
        }
      ],
      "source": [
        "import spacy\n",
        "import textwrap\n",
        "from spacy.lang.en.stop_words import STOP_WORDS\n",
        "from string import punctuation\n",
        "from heapq import nlargest\n",
        "punctuation += '\\n' \n",
        "stopwords = list(STOP_WORDS)\n",
        "\n",
        "reduction_rate = 0.1  #defines how small the output summary should be compared with the input\n",
        "\n",
        "text = \"\"\"I saw ABC back in Neuro-Oncology Clinic today. He comes in for an urgent visit because of increasing questions about what to do next for his anaplastic astrocytoma.\n",
        "Within the last several days, he has seen you in clinic and once again discussed whether or not to undergo radiation for his left temporal lesion. The patient has clearly been extremely ambivalent about this therapy for reasons that are not immediately apparent. It is clear that his MRI is progressing and that it seems unlikely at this time that anything other than radiation would be particularly effective. Despite repeatedly emphasizing this; however, the patient still is worried about potential long-term side effects from treatment that frankly seem unwarranted at this particular time.\n",
        "After seeing you in clinic, he and his friend again wanted to discuss possible changes in the chemotherapy regimen. They came in with a list of eight possible agents that they would like to be administered within the next two weeks. They then wanted another MRI to be performed and they were hoping that with the use of this type of approach, they might be able to induce another remission from which he can once again be spared radiation.\n",
        "From my view, I noticed a man whose language has deteriorated in the week since I last saw him. This is very worrisome. Today, for the first time, I felt that there was a definite right facial droop as well. Therefore, there is no doubt that he is becoming symptomatic from his growing tumor. It suggests that he is approaching the end of his compliance curve and that the things may rapidly deteriorate in the near future.\n",
        "Emphasizing this once again, in addition, to recommending steroids I once again tried to convince him to undergo radiation. Despite an hour, this again amazingly was not possible. It is not that he does not want treatment, however. Because I told him that I did not feel it was ethical to just put him on the radical regimen that him and his friend devised, we compromised and elected to go back to Temodar in a low dose daily type regimen. We would plan on giving 75 mg/sq m everyday for 21 days out of 28 days. In addition, we will stop thalidomide 100 mg/day. If he tolerates this for one week, we then agree that we would institute another one of the medications that he listed for us. At this stage, we are thinking of using Accutane at that point.\n",
        "While I am very uncomfortable with this type of approach, I think as long as he is going to be monitored closely that we may be able to get away with this for at least a reasonable interval. In the spirit of compromise, he again consented to be evaluated by radiation and this time, seemed more resigned to the fact that it was going to happen sooner than later. I will look at this as a positive sign because I think radiation is the one therapy from which he can get a reasonable response in the long term.\n",
        "I will keep you apprised of followups. If you have any questions or if I could be of any further assistance, feel free to contact me.\"\"\""
      ]
    },
    {
      "cell_type": "code",
      "source": [],
      "metadata": {
        "id": "Tu-ijc6HZuvL"
      },
      "execution_count": null,
      "outputs": []
    },
    {
      "cell_type": "code",
      "source": [
        "nlp_pl = spacy.load('en_core_web_sm')     #process original text according with the Spacy nlp pipeline for english\n",
        "document = nlp_pl(text)                   #doc object\n",
        "\n",
        "tokens = [token.text for token in document] #tokenized text\n",
        "\n",
        "word_frequencies = {}\n",
        "for word in document:\n",
        "    if word.text.lower() not in stopwords:\n",
        "        if word.text.lower() not in punctuation:\n",
        "            if word.text not in word_frequencies.keys():\n",
        "                word_frequencies[word.text] = 1\n",
        "            else:\n",
        "                word_frequencies[word.text] += 1\n",
        "\n",
        "max_frequency = max(word_frequencies.values())\n",
        "print(max_frequency)\n",
        "\n",
        "for word in word_frequencies.keys():\n",
        "    word_frequencies[word] = word_frequencies[word]/max_frequency\n",
        "\n",
        "print(word_frequencies)"
      ],
      "metadata": {
        "colab": {
          "base_uri": "https://localhost:8080/"
        },
        "id": "cTLqg-3TYOKK",
        "outputId": "bdba1169-92a2-4652-ceda-4f0552541a8a"
      },
      "execution_count": null,
      "outputs": [
        {
          "output_type": "stream",
          "name": "stdout",
          "text": [
            "6\n",
            "{'saw': 0.3333333333333333, 'ABC': 0.16666666666666666, 'Neuro': 0.16666666666666666, 'Oncology': 0.16666666666666666, 'Clinic': 0.16666666666666666, 'today': 0.16666666666666666, 'comes': 0.16666666666666666, 'urgent': 0.16666666666666666, 'visit': 0.16666666666666666, 'increasing': 0.16666666666666666, 'questions': 0.3333333333333333, 'anaplastic': 0.16666666666666666, 'astrocytoma': 0.16666666666666666, 'days': 0.5, 'seen': 0.16666666666666666, 'clinic': 0.3333333333333333, 'discussed': 0.16666666666666666, 'undergo': 0.3333333333333333, 'radiation': 1.0, 'left': 0.16666666666666666, 'temporal': 0.16666666666666666, 'lesion': 0.16666666666666666, 'patient': 0.3333333333333333, 'clearly': 0.16666666666666666, 'extremely': 0.16666666666666666, 'ambivalent': 0.16666666666666666, 'therapy': 0.3333333333333333, 'reasons': 0.16666666666666666, 'immediately': 0.16666666666666666, 'apparent': 0.16666666666666666, 'clear': 0.16666666666666666, 'MRI': 0.3333333333333333, 'progressing': 0.16666666666666666, 'unlikely': 0.16666666666666666, 'time': 0.6666666666666666, 'particularly': 0.16666666666666666, 'effective': 0.16666666666666666, 'Despite': 0.3333333333333333, 'repeatedly': 0.16666666666666666, 'emphasizing': 0.16666666666666666, 'worried': 0.16666666666666666, 'potential': 0.16666666666666666, 'long': 0.5, 'term': 0.3333333333333333, 'effects': 0.16666666666666666, 'treatment': 0.3333333333333333, 'frankly': 0.16666666666666666, 'unwarranted': 0.16666666666666666, 'particular': 0.16666666666666666, 'seeing': 0.16666666666666666, 'friend': 0.3333333333333333, 'wanted': 0.3333333333333333, 'discuss': 0.16666666666666666, 'possible': 0.5, 'changes': 0.16666666666666666, 'chemotherapy': 0.16666666666666666, 'regimen': 0.5, 'came': 0.16666666666666666, 'list': 0.16666666666666666, 'agents': 0.16666666666666666, 'like': 0.16666666666666666, 'administered': 0.16666666666666666, 'weeks': 0.16666666666666666, 'performed': 0.16666666666666666, 'hoping': 0.16666666666666666, 'use': 0.16666666666666666, 'type': 0.5, 'approach': 0.3333333333333333, 'able': 0.3333333333333333, 'induce': 0.16666666666666666, 'remission': 0.16666666666666666, 'spared': 0.16666666666666666, 'view': 0.16666666666666666, 'noticed': 0.16666666666666666, 'man': 0.16666666666666666, 'language': 0.16666666666666666, 'deteriorated': 0.16666666666666666, 'week': 0.3333333333333333, 'worrisome': 0.16666666666666666, 'Today': 0.16666666666666666, 'felt': 0.16666666666666666, 'definite': 0.16666666666666666, 'right': 0.16666666666666666, 'facial': 0.16666666666666666, 'droop': 0.16666666666666666, 'doubt': 0.16666666666666666, 'symptomatic': 0.16666666666666666, 'growing': 0.16666666666666666, 'tumor': 0.16666666666666666, 'suggests': 0.16666666666666666, 'approaching': 0.16666666666666666, 'end': 0.16666666666666666, 'compliance': 0.16666666666666666, 'curve': 0.16666666666666666, 'things': 0.16666666666666666, 'rapidly': 0.16666666666666666, 'deteriorate': 0.16666666666666666, 'near': 0.16666666666666666, 'future': 0.16666666666666666, 'Emphasizing': 0.16666666666666666, 'addition': 0.3333333333333333, 'recommending': 0.16666666666666666, 'steroids': 0.16666666666666666, 'tried': 0.16666666666666666, 'convince': 0.16666666666666666, 'hour': 0.16666666666666666, 'amazingly': 0.16666666666666666, 'want': 0.16666666666666666, 'told': 0.16666666666666666, 'feel': 0.3333333333333333, 'ethical': 0.16666666666666666, 'radical': 0.16666666666666666, 'devised': 0.16666666666666666, 'compromised': 0.16666666666666666, 'elected': 0.16666666666666666, 'Temodar': 0.16666666666666666, 'low': 0.16666666666666666, 'dose': 0.16666666666666666, 'daily': 0.16666666666666666, 'plan': 0.16666666666666666, 'giving': 0.16666666666666666, '75': 0.16666666666666666, 'mg': 0.3333333333333333, 'sq': 0.16666666666666666, 'm': 0.16666666666666666, 'everyday': 0.16666666666666666, '21': 0.16666666666666666, '28': 0.16666666666666666, 'stop': 0.16666666666666666, 'thalidomide': 0.16666666666666666, '100': 0.16666666666666666, 'day': 0.16666666666666666, 'tolerates': 0.16666666666666666, 'agree': 0.16666666666666666, 'institute': 0.16666666666666666, 'medications': 0.16666666666666666, 'listed': 0.16666666666666666, 'stage': 0.16666666666666666, 'thinking': 0.16666666666666666, 'Accutane': 0.16666666666666666, 'point': 0.16666666666666666, 'uncomfortable': 0.16666666666666666, 'think': 0.3333333333333333, 'going': 0.3333333333333333, 'monitored': 0.16666666666666666, 'closely': 0.16666666666666666, 'away': 0.16666666666666666, 'reasonable': 0.3333333333333333, 'interval': 0.16666666666666666, 'spirit': 0.16666666666666666, 'compromise': 0.16666666666666666, 'consented': 0.16666666666666666, 'evaluated': 0.16666666666666666, 'resigned': 0.16666666666666666, 'fact': 0.16666666666666666, 'happen': 0.16666666666666666, 'sooner': 0.16666666666666666, 'later': 0.16666666666666666, 'look': 0.16666666666666666, 'positive': 0.16666666666666666, 'sign': 0.16666666666666666, 'response': 0.16666666666666666, 'apprised': 0.16666666666666666, 'followups': 0.16666666666666666, 'assistance': 0.16666666666666666, 'free': 0.16666666666666666, 'contact': 0.16666666666666666}\n"
          ]
        }
      ]
    },
    {
      "cell_type": "code",
      "source": [
        "sentence_tokens = [sent for sent in document.sents]\n",
        "\n",
        "def get_sentence_scores(sentence_tok, len_norm=True):\n",
        "  sentence_scores = {}\n",
        "  for sent in sentence_tok:\n",
        "      word_count = 0\n",
        "      for word in sent:\n",
        "          if word.text.lower() in word_frequencies.keys():\n",
        "              word_count += 1\n",
        "              if sent not in sentence_scores.keys():\n",
        "                  sentence_scores[sent] = word_frequencies[word.text.lower()]\n",
        "              else:\n",
        "                  sentence_scores[sent] += word_frequencies[word.text.lower()]\n",
        "      if len_norm:\n",
        "        sentence_scores[sent] = sentence_scores[sent]/word_count\n",
        "  return sentence_scores\n",
        "                \n",
        "sentence_scores = get_sentence_scores(sentence_tokens,len_norm=False)        #sentence scoring without lenght normalization\n",
        "sentence_scores_rel = get_sentence_scores(sentence_tokens,len_norm=True)     #sentence scoring with length normalization"
      ],
      "metadata": {
        "id": "N8w0l-aUYccK"
      },
      "execution_count": null,
      "outputs": []
    },
    {
      "cell_type": "code",
      "source": [
        "def get_summary(sentence_sc, rate):\n",
        "  summary_length = int(len(sentence_sc)*rate)\n",
        "  summary = nlargest(summary_length, sentence_sc, key = sentence_sc.get)\n",
        "  final_summary = [word.text for word in summary]\n",
        "  summary = ' '.join(final_summary)\n",
        "  return summary\n",
        "\n",
        "print(\"- NON_REL: \"+ get_summary(sentence_scores, reduction_rate))\n",
        "print(\"- REL: \"+ get_summary(sentence_scores_rel, reduction_rate))"
      ],
      "metadata": {
        "colab": {
          "base_uri": "https://localhost:8080/"
        },
        "id": "4giCTOutYgZ2",
        "outputId": "0d378088-a534-4e60-dbfc-fe963d9cdb97"
      },
      "execution_count": null,
      "outputs": [
        {
          "output_type": "stream",
          "name": "stdout",
          "text": [
            "- NON_REL: Because I told him that I did not feel it was ethical to just put him on the radical regimen that him and his friend devised, we compromised and elected to go back to Temodar in a low dose daily type regimen. I will look at this as a positive sign because I think radiation is the one therapy from which he can get a reasonable response in the long term.\n",
            "\n",
            "- REL: It is clear that his MRI is progressing and that it seems unlikely at this time that anything other than radiation would be particularly effective. I will look at this as a positive sign because I think radiation is the one therapy from which he can get a reasonable response in the long term.\n",
            "\n"
          ]
        }
      ]
    },
    {
      "cell_type": "code",
      "source": [
        "from summarizer import Summarizer, sentence_tokenizer\n",
        "\n",
        "\n",
        "model = Summarizer\n",
        "\n",
        "summary_length = int(len(sentence_tokens)*(reduction_rate))\n",
        "result = model()\n",
        "\n",
        "# for i in result.get_summary(text, \"Title\"):\n",
        "    # print(i['sentence'])\n",
        "\n",
        "# print(result.get_summary(text, \"Title\"))\n",
        "print(result.sort_score(result.get_summary(text, \"Title\")))"
      ],
      "metadata": {
        "colab": {
          "base_uri": "https://localhost:8080/"
        },
        "id": "VU9IQECFYk06",
        "outputId": "6a7e9960-4e54-4885-d79a-ff9485543f58"
      },
      "execution_count": null,
      "outputs": [
        {
          "output_type": "stream",
          "name": "stdout",
          "text": [
            "[{'total_score': 0.1675, 'sentence': 'He comes in for an urgent visit because of increasing questions about what to do next for his anaplastic astrocytoma.', 'order': 1}, {'total_score': 0.16375, 'sentence': 'The patient has clearly been extremely ambivalent about this therapy for reasons that are not immediately apparent.', 'order': 3}, {'total_score': 0.1569631654214771, 'sentence': 'After seeing you in clinic, he and his friend again wanted to discuss possible changes in the chemotherapy regimen.', 'order': 6}, {'total_score': 0.15625, 'sentence': 'If you have any questions or if I could be of any further assistance, feel free to contact me.', 'order': 26}, {'total_score': 0.15125, 'sentence': 'It is clear that his MRI is progressing and that it seems unlikely at this time that anything other than radiation would be particularly effective.', 'order': 4}, {'total_score': 0.15125, 'sentence': 'Despite repeatedly emphasizing this; however, the patient still is worried about potential long-term side effects from treatment that frankly seem unwarranted at this particular time.', 'order': 5}, {'total_score': 0.14750000000000002, 'sentence': 'They came in with a list of eight possible agents that they would like to be administered within the next two weeks.', 'order': 7}, {'total_score': 0.13874999999999998, 'sentence': 'From my view, I noticed a man whose language has deteriorated in the week since I last saw him.', 'order': 9}, {'total_score': 0.13569189220894232, 'sentence': 'Emphasizing this once again, in addition, to recommending steroids I once again tried to convince him to undergo radiation.', 'order': 14}, {'total_score': 0.13179565307016414, 'sentence': 'Within the last several days, he has seen you in clinic and once again discussed whether or not to undergo radiation for his left temporal lesion.', 'order': 2}, {'total_score': 0.11875, 'sentence': 'Today, for the first time, I felt that there was a definite right facial droop as well.', 'order': 11}, {'total_score': 0.11875, 'sentence': 'It suggests that he is approaching the end of his compliance curve and that the things may rapidly deteriorate in the near future.', 'order': 13}, {'total_score': 0.1186914560733335, 'sentence': 'We would plan on giving 75 mg/sq m everyday for 21 days out of 28 days.', 'order': 18}, {'total_score': 0.11, 'sentence': 'If he tolerates this for one week, we then agree that we would institute another one of the medications that he listed for us.', 'order': 20}, {'total_score': 0.09999999999999999, 'sentence': 'Therefore, there is no doubt that he is becoming symptomatic from his growing tumor.', 'order': 12}, {'total_score': 0.08499999999999999, 'sentence': 'At this stage, we are thinking of using Accutane at that point.', 'order': 21}, {'total_score': 0.08124999999999999, 'sentence': 'I will keep you apprised of followups.', 'order': 25}, {'total_score': 0.07875, 'sentence': 'I will look at this as a positive sign because I think radiation is the one therapy from which he can get a reasonable response in the long term.', 'order': 24}, {'total_score': 0.07259517766497461, 'sentence': 'Despite an hour, this again amazingly was not possible.', 'order': 15}, {'total_score': 0.0725, 'sentence': 'It is not that he does not want treatment, however.', 'order': 16}, {'total_score': 0.06625, 'sentence': 'In the spirit of compromise, he again consented to be evaluated by radiation and this time, seemed more resigned to the fact that it was going to happen sooner than later.', 'order': 23}, {'total_score': 0.060000000000000005, 'sentence': 'In addition, we will stop thalidomide 100 mg/day.', 'order': 19}, {'total_score': 0.05027566323551913, 'sentence': 'They then wanted another MRI to be performed and they were hoping that with the use of this type of approach, they might be able to induce another remission from which he can once again be spared radiation.', 'order': 8}, {'total_score': 0.05, 'sentence': 'I saw ABC back in Neuro-Oncology Clinic today.', 'order': 0}, {'total_score': 0.045, 'sentence': 'This is very worrisome.', 'order': 10}, {'total_score': 0.02278988121312067, 'sentence': 'While I am very uncomfortable with this type of approach, I think as long as he is going to be monitored closely that we may be able to get away with this for at least a reasonable interval.', 'order': 22}, {'total_score': 0.005602912169016127, 'sentence': 'Because I told him that I did not feel it was ethical to just put him on the radical regimen that him and his friend devised, we compromised and elected to go back to Temodar in a low dose daily type regimen.', 'order': 17}]\n"
          ]
        }
      ]
    },
    {
      "cell_type": "code",
      "source": [
        "!pip install summarizer"
      ],
      "metadata": {
        "colab": {
          "base_uri": "https://localhost:8080/"
        },
        "id": "j4WYxLm-Y3x1",
        "outputId": "44fe56ae-e55f-4448-e48d-be7beb6efd38"
      },
      "execution_count": null,
      "outputs": [
        {
          "output_type": "stream",
          "name": "stdout",
          "text": [
            "Looking in indexes: https://pypi.org/simple, https://us-python.pkg.dev/colab-wheels/public/simple/\n",
            "Collecting summarizer\n",
            "  Downloading summarizer-0.0.7.tar.gz (280 kB)\n",
            "\u001b[2K     \u001b[90m━━━━━━━━━━━━━━━━━━━━━━━━━━━━━━━━━━━━━━━\u001b[0m \u001b[32m280.1/280.1 KB\u001b[0m \u001b[31m6.5 MB/s\u001b[0m eta \u001b[36m0:00:00\u001b[0m\n",
            "\u001b[?25h  Preparing metadata (setup.py) ... \u001b[?25l\u001b[?25hdone\n",
            "Requirement already satisfied: nltk in /usr/local/lib/python3.9/dist-packages (from summarizer) (3.8.1)\n",
            "Requirement already satisfied: joblib in /usr/local/lib/python3.9/dist-packages (from nltk->summarizer) (1.1.1)\n",
            "Requirement already satisfied: regex>=2021.8.3 in /usr/local/lib/python3.9/dist-packages (from nltk->summarizer) (2022.10.31)\n",
            "Requirement already satisfied: click in /usr/local/lib/python3.9/dist-packages (from nltk->summarizer) (8.1.3)\n",
            "Requirement already satisfied: tqdm in /usr/local/lib/python3.9/dist-packages (from nltk->summarizer) (4.65.0)\n",
            "Building wheels for collected packages: summarizer\n",
            "  Building wheel for summarizer (setup.py) ... \u001b[?25l\u001b[?25hdone\n",
            "  Created wheel for summarizer: filename=summarizer-0.0.7-py2.py3-none-any.whl size=284224 sha256=b8e4e69c4a73ad9c7e8b986f3047a3a7d2679b4848dbed1a4f5ee14fe4e23f20\n",
            "  Stored in directory: /root/.cache/pip/wheels/9e/65/2d/389857cbe6fb8c98184cce938481b283faaf777023832e0aea\n",
            "Successfully built summarizer\n",
            "Installing collected packages: summarizer\n",
            "Successfully installed summarizer-0.0.7\n"
          ]
        }
      ]
    },
    {
      "cell_type": "code",
      "source": [
        "import spacy\n",
        "nlp = spacy.load('en_core_web_sm')\n",
        "doc = nlp(text)\n",
        "for ent in doc.ents:\n",
        " print(ent.text, ent.start_char, ent.end_char, ent.label_)"
      ],
      "metadata": {
        "colab": {
          "base_uri": "https://localhost:8080/"
        },
        "id": "2J4MER-XXnK3",
        "outputId": "35246c60-ab13-4f6d-859e-1ed456d56568"
      },
      "execution_count": null,
      "outputs": [
        {
          "output_type": "stream",
          "name": "stdout",
          "text": [
            "ABC 6 9 ORG\n",
            "Neuro-Oncology Clinic 18 39 ORG\n",
            "today 40 45 DATE\n",
            "astrocytoma 152 163 GPE\n",
            "the last several days 172 193 DATE\n",
            "eight 904 909 CARDINAL\n",
            "the next two weeks 973 991 DATE\n",
            "the week 1265 1273 DATE\n",
            "Today 1320 1325 DATE\n",
            "first 1335 1340 ORDINAL\n",
            "an hour 1756 1763 TIME\n",
            "Temodar 2023 2030 PRODUCT\n",
            "daily 2045 2050 DATE\n",
            "75 2089 2091 CARDINAL\n",
            "21 days 2113 2120 DATE\n",
            "28 days 2128 2135 DATE\n",
            "100 2175 2178 CARDINAL\n",
            "one week 2212 2220 DATE\n",
            "Accutane 2354 2362 PERSON\n",
            "one 2813 2816 CARDINAL\n"
          ]
        }
      ]
    },
    {
      "cell_type": "code",
      "source": [],
      "metadata": {
        "id": "MdU66vRdXnUL"
      },
      "execution_count": null,
      "outputs": []
    },
    {
      "cell_type": "code",
      "source": [],
      "metadata": {
        "id": "12pgur1CXnVi"
      },
      "execution_count": null,
      "outputs": []
    }
  ]
}